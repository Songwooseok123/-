{
 "cells": [
  {
   "cell_type": "code",
   "execution_count": 1,
   "id": "face95a5-75fc-42e5-9ad0-10cdc243994c",
   "metadata": {},
   "outputs": [
    {
     "name": "stderr",
     "output_type": "stream",
     "text": [
      "C:\\Users\\Songwooseok\\miniconda3\\envs\\test\\lib\\site-packages\\tqdm\\auto.py:22: TqdmWarning: IProgress not found. Please update jupyter and ipywidgets. See https://ipywidgets.readthedocs.io/en/stable/user_install.html\n",
      "  from .autonotebook import tqdm as notebook_tqdm\n"
     ]
    }
   ],
   "source": [
    "import torch\n",
    "import torch.nn as nn\n",
    "from scipy.optimize import fmin_l_bfgs_b\n",
    "import torch.nn.functional as F\n",
    "import numpy as np\n",
    "import logging\n",
    "import matplotlib.pyplot as plt\n",
    "from tqdm import tqdm "
   ]
  },
  {
   "cell_type": "markdown",
   "id": "5013fcd3-7b66-4d49-b5f5-7db56b91650b",
   "metadata": {},
   "source": [
    "# Mnist dataset"
   ]
  },
  {
   "cell_type": "code",
   "execution_count": 2,
   "id": "0f131bf5-ab1e-42df-a6ed-2db59d0be0f4",
   "metadata": {
    "tags": []
   },
   "outputs": [],
   "source": [
    "from torchvision import datasets,transforms\n",
    "mnist_testset = datasets.MNIST('./data_mnist', \n",
    "                   train=False,\n",
    "                   download=True, \n",
    "                   transform=transforms.Compose([transforms.ToTensor()]))\n",
    "test_loader = torch.utils.data.DataLoader(mnist_testset, batch_size=1,shuffle=True)"
   ]
  },
  {
   "cell_type": "markdown",
   "id": "c69f1ed3-0987-42fb-85fb-dd985879af71",
   "metadata": {},
   "source": [
    "# Model"
   ]
  },
  {
   "cell_type": "code",
   "execution_count": 67,
   "id": "c9e00116-41d7-4820-91db-a7e391f69237",
   "metadata": {},
   "outputs": [
    {
     "name": "stdout",
     "output_type": "stream",
     "text": [
      "CUDA Available:  False\n"
     ]
    },
    {
     "data": {
      "text/plain": [
       "Net(\n",
       "  (conv1): Conv2d(1, 10, kernel_size=(5, 5), stride=(1, 1))\n",
       "  (conv2): Conv2d(10, 20, kernel_size=(5, 5), stride=(1, 1))\n",
       "  (conv2_drop): Dropout2d(p=0.5, inplace=False)\n",
       "  (fc1): Linear(in_features=320, out_features=50, bias=True)\n",
       "  (fc2): Linear(in_features=50, out_features=10, bias=True)\n",
       ")"
      ]
     },
     "execution_count": 67,
     "metadata": {},
     "output_type": "execute_result"
    }
   ],
   "source": [
    "#Load pretrained weights\n",
    "pretrained_model = \"weights/lenet_mnist_model.pth\"\n",
    "use_cuda=True \n",
    "\n",
    "class Net(nn.Module):\n",
    "    def __init__(self):\n",
    "        super().__init__()\n",
    "        self.conv1 = nn.Conv2d(1, 10, kernel_size=5)\n",
    "        self.conv2 = nn.Conv2d(10, 20, kernel_size=5)\n",
    "        ## Ghir f training \n",
    "        self.conv2_drop = nn.Dropout2d()\n",
    "        self.fc1 = nn.Linear(320, 50)\n",
    "        self.fc2 = nn.Linear(50, 10)\n",
    "\n",
    "    def forward(self, x):\n",
    "        #print(x.shape)\n",
    "        x = self.conv1(x)\n",
    "        #print(x.shape)\n",
    "        x = F.max_pool2d(x, 2)\n",
    "        #print(x.shape)\n",
    "        x = F.relu(x)\n",
    "        #print(x.shape)\n",
    "        \n",
    "        x = F.relu(F.max_pool2d(self.conv2_drop(self.conv2(x)), 2))\n",
    "        x = x.view(-1, 320)\n",
    "        x = F.relu(self.fc1(x))\n",
    "        x = F.dropout(x, training=self.training)\n",
    "        x = self.fc2(x)\n",
    "        return x\n",
    "\n",
    "# Init device \n",
    "print(\"CUDA Available: \",torch.cuda.is_available())\n",
    "device = torch.device(\"cuda\" if (use_cuda and torch.cuda.is_available()) else \"cpu\")\n",
    "\n",
    "# Init the network\n",
    "model = Net().to(device)\n",
    "\n",
    "# Load pretrained model\n",
    "model.load_state_dict(torch.load(pretrained_model, map_location='cpu'))\n",
    "\n",
    "# Set the model in evaluation mode. In this case this is for the Dropout layers\n",
    "model.eval()"
   ]
  },
  {
   "cell_type": "code",
   "execution_count": 68,
   "id": "b7675651-a9d1-450b-b699-008e3e372ee2",
   "metadata": {},
   "outputs": [],
   "source": [
    "x, y = mnist_testset[0]"
   ]
  },
  {
   "cell_type": "code",
   "execution_count": 70,
   "id": "1c9c6c2c-ee9f-4abf-bc7e-1b9bff9b8019",
   "metadata": {},
   "outputs": [
    {
     "data": {
      "text/plain": [
       "tensor([[-2.0900, -0.2965,  1.8210,  1.0334, -1.3872, -2.5627, -6.0535,  5.4380,\n",
       "         -0.7644,  1.0989]], grad_fn=<AddmmBackward0>)"
      ]
     },
     "execution_count": 70,
     "metadata": {},
     "output_type": "execute_result"
    }
   ],
   "source": [
    "model(x.unsqueeze(0))"
   ]
  },
  {
   "cell_type": "code",
   "execution_count": 40,
   "id": "7e22c6a7-abbc-4732-90b6-2e1105fb6b89",
   "metadata": {},
   "outputs": [
    {
     "name": "stdout",
     "output_type": "stream",
     "text": [
      "(5, 5, 1, 10)\n",
      "(5, 5, 10, 20)\n"
     ]
    }
   ],
   "source": [
    "params = []\n",
    "\n",
    "for name, param in model.named_parameters():\n",
    "    param = param.detach().cpu().numpy()\n",
    "    if 'conv' in name and 'weight' in name:\n",
    "        param = np.transpose(param, (2, 3, 1, 0))\n",
    "\n",
    "    if 'fc' in name and 'weight' in name:\n",
    "        param = param.T\n",
    "    \n",
    "    params.append(param)"
   ]
  },
  {
   "cell_type": "code",
   "execution_count": 45,
   "id": "4b848dbe-b42b-445f-869c-07f104d9d522",
   "metadata": {},
   "outputs": [],
   "source": [
    "import pickle"
   ]
  },
  {
   "cell_type": "code",
   "execution_count": 46,
   "id": "83e1839d-5014-4ca7-b061-33490f998a8b",
   "metadata": {},
   "outputs": [],
   "source": [
    "with open('./lenet5.pkl', 'wb') as f:\n",
    "    pickle.dump(params, f)"
   ]
  },
  {
   "cell_type": "code",
   "execution_count": 47,
   "id": "6ddf4fab-7a71-4776-af32-280fdd69488a",
   "metadata": {},
   "outputs": [],
   "source": [
    "with open('./lenet5.pkl', 'rb') as f:\n",
    "    d = pickle.load(f)"
   ]
  },
  {
   "cell_type": "code",
   "execution_count": 57,
   "id": "eb7ea39f-a96a-4935-b447-2b5254acdfb8",
   "metadata": {},
   "outputs": [
    {
     "data": {
      "text/plain": [
       "torch.Size([1, 28, 28])"
      ]
     },
     "execution_count": 57,
     "metadata": {},
     "output_type": "execute_result"
    }
   ],
   "source": [
    "x.shape"
   ]
  },
  {
   "cell_type": "code",
   "execution_count": 53,
   "id": "5e5cb4d7-f4da-4062-980c-75eaf78b84ee",
   "metadata": {},
   "outputs": [
    {
     "data": {
      "text/plain": [
       "tensor([[-2.0900, -0.2965,  1.8210,  1.0334, -1.3872, -2.5627, -6.0535,  5.4380,\n",
       "         -0.7644,  1.0989]], grad_fn=<AddmmBackward0>)"
      ]
     },
     "execution_count": 53,
     "metadata": {},
     "output_type": "execute_result"
    }
   ],
   "source": [
    "model(x.unsqueeze(0))"
   ]
  },
  {
   "cell_type": "code",
   "execution_count": 23,
   "id": "aa0aa6aa-9b08-4b9c-9766-caf7d8e20dc7",
   "metadata": {},
   "outputs": [
    {
     "data": {
      "image/png": "[encoded data removed]",
      "text/plain": [
       "<Figure size 640x480 with 1 Axes>"
      ]
     },
     "metadata": {},
     "output_type": "display_data"
    }
   ],
   "source": [
    "plt.imshow(x[0, :, :])\n",
    "plt.show()"
   ]
  },
  {
   "cell_type": "code",
   "execution_count": null,
   "id": "894d31bb-b059-45b5-ae23-d859df98f708",
   "metadata": {},
   "outputs": [],
   "source": []
  },
  {
   "cell_type": "code",
   "execution_count": 4,
   "id": "b9488b13-ceab-4858-ab95-ffba0cf4cdf6",
   "metadata": {
    "tags": []
   },
   "outputs": [
    {
     "data": {
      "text/plain": [
       "\"\\nimport torch\\nfrom torchvision import datasets, transforms\\n\\n# Define the transformation to normalize the data\\ntransform = transforms.Compose([\\n    transforms.ToTensor(),\\n    transforms.Normalize((0.1307,), (0.3081,))\\n])\\n\\n# Load the MNIST dataset\\ntrain_dataset = datasets.MNIST(root='./data', train=True, download=True, transform=transform)\\ntest_dataset = datasets.MNIST(root='./data', train=False, download=True, transform=transform)\\n\\n# Create data loaders\\ntrain_loader = torch.utils.data.DataLoader(train_dataset, batch_size=64, shuffle=True)\\ntest_loader = torch.utils.data.DataLoader(test_dataset, batch_size=64, shuffle=False)\\n\\n# Get the first batch of training data and labels\\nx_train, y_train = next(iter(train_loader))\\n\\n# Get the first batch of test data and labels\\nx_test, y_test = next(iter(test_loader))\\n\""
      ]
     },
     "execution_count": 4,
     "metadata": {},
     "output_type": "execute_result"
    }
   ],
   "source": [
    "'''\n",
    "import torch\n",
    "from torchvision import datasets, transforms\n",
    "\n",
    "# Define the transformation to normalize the data\n",
    "transform = transforms.Compose([\n",
    "    transforms.ToTensor(),\n",
    "    transforms.Normalize((0.1307,), (0.3081,))\n",
    "])\n",
    "\n",
    "# Load the MNIST dataset\n",
    "train_dataset = datasets.MNIST(root='./data', train=True, download=True, transform=transform)\n",
    "test_dataset = datasets.MNIST(root='./data', train=False, download=True, transform=transform)\n",
    "\n",
    "# Create data loaders\n",
    "train_loader = torch.utils.data.DataLoader(train_dataset, batch_size=64, shuffle=True)\n",
    "test_loader = torch.utils.data.DataLoader(test_dataset, batch_size=64, shuffle=False)\n",
    "\n",
    "# Get the first batch of training data and labels\n",
    "x_train, y_train = next(iter(train_loader))\n",
    "\n",
    "# Get the first batch of test data and labels\n",
    "x_test, y_test = next(iter(test_loader))\n",
    "'''"
   ]
  },
  {
   "cell_type": "code",
   "execution_count": 5,
   "id": "374056fd-2c8d-43d6-b205-66e1d7c0c810",
   "metadata": {},
   "outputs": [],
   "source": [
    "class LBFGSAttack():\n",
    "    \"\"\"\n",
    "    Class LBFGS attack L-BFGS-B to minimize the cross-entropy and the distance between the\n",
    "    original and the adversary.\n",
    "    \"\"\"\n",
    "    def __init__(self, model, device):\n",
    "        self._adv = None  \n",
    "        self.model = model\n",
    "        self.device = device\n",
    "        # Init bounds for lbfgs algo\n",
    "        self.bounds = 0 , 1\n",
    "        self._output = None\n",
    "\n",
    "    def __call__(self, data,target, epsilon=0.01, steps=10):\n",
    "        self.data = data.to(self.device)\n",
    "        self.target = torch.tensor([target]).to(self.device) \n",
    "        # finding initial value for c        \n",
    "        c = epsilon\n",
    "        x0 = self.data.clone().cpu().numpy().flatten().astype(float)\n",
    "        # Line search init\n",
    "        for i in range(30):\n",
    "            c = 2 * c\n",
    "            # print('c={}'.format(c))\n",
    "            is_adversary = self._lbfgsb(x0, c, steps)\n",
    "            if is_adversary:\n",
    "                # print('Successful')\n",
    "                break\n",
    "        if not is_adversary:\n",
    "            # logging.info('Failed to init C ')\n",
    "            return self._adv\n",
    "        \n",
    "        # binary search c\n",
    "        c_low = 0\n",
    "        c_high = c\n",
    "        print(epsilon)\n",
    "        while c_high - c_low >= epsilon:\n",
    "            c_half = (c_low + c_high) / 2\n",
    "            is_adversary = self._lbfgsb(x0, c_half, steps)\n",
    "            if is_adversary:\n",
    "                c_high = c_high-epsilon\n",
    "            else:\n",
    "                c_low = c_half\n",
    "\n",
    "    def _loss(self, adv_x, c):\n",
    "        \"\"\"\n",
    "        Get the loss and gradient wr to adversary\n",
    "        params:\n",
    "        adv_x: the candidate adversarial example\n",
    "        c: parameter 'C' in the paper        \n",
    "        return: \n",
    "        (loss, gradient)\n",
    "        \"\"\"\n",
    "        adv = torch.from_numpy(adv_x.reshape(self.data.size())).float().to(self.device).requires_grad_(True)\n",
    "    \n",
    "        # cross_entropy\n",
    "        output = self.model(adv)\n",
    "        ce = F.cross_entropy(output, self.target)\n",
    "        # L2 distance\n",
    "        d =  torch.sum((self.data - adv) ** 2)\n",
    "        #print(output.shape)\n",
    "        #print(self.target.shape)\n",
    "        # Loss \n",
    "        #print(ce.shape)\n",
    "        loss = c * ce + d\n",
    "        \n",
    "        # gradient\n",
    "        loss.backward()\n",
    "        grad_ret = adv.grad.data.cpu().numpy().flatten().astype(float)\n",
    "        \n",
    "        loss = loss.data.cpu().numpy().flatten().astype(float)\n",
    "        \n",
    "        return loss, grad_ret\n",
    "\n",
    "    def _lbfgsb(self, x0, c, maxiter):\n",
    "        min_, max_ = self.bounds\n",
    "        bounds = [(min_, max_)] * len(x0)\n",
    "        approx_grad_eps = (max_ - min_) / 100.0\n",
    "        #print(self._loss.shape)\n",
    "        #print(type(x0))\n",
    "        \n",
    "#        print(bounds)\n",
    "        #print(maxiter)\n",
    "        #print(epsilon)\n",
    "        \n",
    "        x, f, d = fmin_l_bfgs_b(\n",
    "            self._loss,\n",
    "            x0,\n",
    "            args=(c, ),\n",
    "            bounds=bounds,\n",
    "            maxiter=maxiter,\n",
    "            epsilon=approx_grad_eps)\n",
    "        if np.amax(x) > max_ or np.amin(x) < min_:\n",
    "            x = np.clip(x, min_, max_)\n",
    "\n",
    "        adv = torch.from_numpy(x.reshape(self.data.shape)).float().to(self.device)\n",
    "        output = self.model(adv)\n",
    "        adv_label = output.max(1, keepdim=True)[1]\n",
    "        logging.info('target_label = {}, adv_label={}'.format(self.target, adv_label))\n",
    "        # print('pre_label = {}, adv_label={}'.format(self.target, adv_label))\n",
    "        self._adv = adv\n",
    "        self._output = output\n",
    "        return adv_label.item()== self.target.item()"
   ]
  },
  {
   "cell_type": "markdown",
   "id": "695ae469-a00f-42c1-a032-22fab9646478",
   "metadata": {},
   "source": [
    "# Attack"
   ]
  },
  {
   "cell_type": "code",
   "execution_count": 14,
   "id": "e1f0b53c-aab0-4b95-a9ab-b190c03a4f76",
   "metadata": {
    "tags": []
   },
   "outputs": [
    {
     "name": "stdout",
     "output_type": "stream",
     "text": [
      "0.01\n",
      "torch.Size([1, 1, 28, 28])\n",
      "torch.Size([1, 1, 28, 28])\n"
     ]
    },
    {
     "data": {
      "text/plain": [
       "Text(0.5, 1.0, 'Original image : 9, proba =1238.95%')"
      ]
     },
     "execution_count": 14,
     "metadata": {},
     "output_type": "execute_result"
    },
    {
     "data": {
      "image/png": "[encoded data removed]",
      "text/plain": [
       "<Figure size 800x1000 with 2 Axes>"
      ]
     },
     "metadata": {},
     "output_type": "display_data"
    }
   ],
   "source": [
    "test_loader = torch.utils.data.DataLoader(mnist_testset, batch_size=1,shuffle=True)\n",
    "\n",
    "data , target = next(iter(test_loader))\n",
    "\n",
    "lbfgs = LBFGSAttack(model,device)\n",
    "\n",
    "lbfgs.__call__(data,torch.tensor(7),epsilon=0.01)\n",
    "\n",
    "fig, ax = plt.subplots(1,2,figsize=(8,10))\n",
    "adv = lbfgs._adv\n",
    "print(adv.shape)\n",
    "adv_numpy = adv.squeeze().detach().cpu().numpy()\n",
    "print(adv.shape)\n",
    "label_adv = model(adv).max(1, keepdim=True)[1]\n",
    "\n",
    "proba_original = torch.exp(model(data)).max().item()*100\n",
    "proba_adv = F.softmax(lbfgs._output,dim=1).max().item()*100\n",
    "\n",
    "ax[1].imshow(adv_numpy,cmap='Greys')\n",
    "ax[1].set_title(\"Adversarial Exemple : {}, proba ={}%\".format(label_adv.item(),\n",
    "                                                             round(proba_adv,2)))\n",
    "\n",
    "\n",
    "data_numpy = data.squeeze().detach().cpu().numpy()\n",
    "ax[0].imshow(data_numpy,cmap='Greys')\n",
    "ax[0].set_title(\"Original image : {}, proba ={}%\".format(target.item(),round(proba_original,2)))"
   ]
  },
  {
   "cell_type": "code",
   "execution_count": 11,
   "id": "b348aff9-33fc-4de5-be5a-9ed2d8e1d259",
   "metadata": {},
   "outputs": [
    {
     "data": {
      "text/plain": [
       "tensor([0])"
      ]
     },
     "execution_count": 11,
     "metadata": {},
     "output_type": "execute_result"
    }
   ],
   "source": [
    "target"
   ]
  },
  {
   "cell_type": "code",
   "execution_count": 12,
   "id": "a603ce17-716d-49f5-abef-6e0b77001402",
   "metadata": {},
   "outputs": [
    {
     "data": {
      "text/plain": [
       "tensor([[ 5.6346, -1.9302,  1.2014, -1.4811, -2.4150, -0.4058,  0.0146, -0.4631,\n",
       "          0.3558, -0.3747]], grad_fn=<AddmmBackward0>)"
      ]
     },
     "execution_count": 12,
     "metadata": {},
     "output_type": "execute_result"
    }
   ],
   "source": [
    "model(data)"
   ]
  },
  {
   "cell_type": "code",
   "execution_count": 98,
   "id": "61d915ca-3d0f-4b9a-b588-e4323795e3a2",
   "metadata": {},
   "outputs": [],
   "source": [
    "def test_LBFGS_mnist(model, device, testloader, nb_exemples=1000, T=1):\n",
    "    correct = 0\n",
    "    adv_examples = []\n",
    "    proba_adv = np.zeros(nb_exemples)\n",
    "    proba_orig = np.zeros(nb_exemples)\n",
    "    loop = tqdm(testloader)\n",
    "    lbfgs = LBFGSAttack(model, device)\n",
    "    for i, (data, target) in enumerate(loop):\n",
    "        if i == nb_exemples:\n",
    "            break\n",
    "        data = data.to(device)\n",
    "        target = target.to(target)\n",
    "        # Get initial label\n",
    "        output = model(data)\n",
    "        output = F.log_softmax(output / T, dim=1)\n",
    "        # index of the max log-probability\n",
    "        init_pred = output.max(1, keepdim=True)[1]\n",
    "        proba_orig[i] = torch.exp(output).max().item()*100\n",
    "        if init_pred.item() != target.item():\n",
    "            # Skip bad exemples in testdata\n",
    "            continue\n",
    "        n = torch.tensor(0)\n",
    "        while n.item() == target.item():\n",
    "            n = torch.randint(low=0, high=9, size=(1,))\n",
    "\n",
    "        lbfgs(data, target=torch.randint(low=0, high=9, size=(1,)))\n",
    "        adv = lbfgs._adv\n",
    "        output = lbfgs._output\n",
    "        proba_adv[i] = F.softmax(output / T, dim=1).max().item()*100\n",
    "        final_pred = output.max(1, keepdim=True)[1]\n",
    "        # Get probability\n",
    "        # If same label changed\n",
    "        if final_pred.item() == target.item():\n",
    "            correct += 1\n",
    "        else:\n",
    "            if len(adv_examples) < 5:\n",
    "                adversary = adv.squeeze().detach().cpu().numpy()\n",
    "                original = data.squeeze().detach().cpu().numpy()\n",
    "                adv_examples.append(\n",
    "                    (original, adversary, init_pred, final_pred))\n",
    "\n",
    "    final_acc = correct / nb_exemples  # Normally float(len(testloader))\n",
    "    return final_acc, adv_examples, proba_orig, proba_adv\n"
   ]
  },
  {
   "cell_type": "code",
   "execution_count": 122,
   "id": "278e16ff-23d2-44d9-a529-a7f263a78d60",
   "metadata": {
    "collapsed": true,
    "jupyter": {
     "outputs_hidden": true
    },
    "tags": []
   },
   "outputs": [
    {
     "name": "stderr",
     "output_type": "stream",
     "text": [
      "  0%|                                                                                        | 0/10000 [00:00<?, ?it/s]"
     ]
    },
    {
     "name": "stdout",
     "output_type": "stream",
     "text": [
      "0.01\n"
     ]
    },
    {
     "name": "stderr",
     "output_type": "stream",
     "text": [
      "  0%|                                                                             | 1/10000 [00:16<45:18:43, 16.31s/it]"
     ]
    },
    {
     "name": "stdout",
     "output_type": "stream",
     "text": [
      "0.01\n"
     ]
    },
    {
     "name": "stderr",
     "output_type": "stream",
     "text": [
      "  0%|                                                                             | 2/10000 [00:30<41:01:01, 14.77s/it]"
     ]
    },
    {
     "name": "stdout",
     "output_type": "stream",
     "text": [
      "0.01\n"
     ]
    },
    {
     "name": "stderr",
     "output_type": "stream",
     "text": [
      "  0%|                                                                             | 3/10000 [00:34<27:36:36,  9.94s/it]"
     ]
    },
    {
     "name": "stdout",
     "output_type": "stream",
     "text": [
      "0.01\n"
     ]
    },
    {
     "name": "stderr",
     "output_type": "stream",
     "text": [
      "  0%|                                                                             | 4/10000 [00:37<20:46:39,  7.48s/it]"
     ]
    },
    {
     "name": "stdout",
     "output_type": "stream",
     "text": [
      "0.01\n"
     ]
    },
    {
     "name": "stderr",
     "output_type": "stream",
     "text": [
      "  0%|                                                                             | 5/10000 [00:56<31:36:01, 11.38s/it]"
     ]
    },
    {
     "name": "stdout",
     "output_type": "stream",
     "text": [
      "0.01\n"
     ]
    },
    {
     "name": "stderr",
     "output_type": "stream",
     "text": [
      "  0%|                                                                             | 6/10000 [01:03<27:42:35,  9.98s/it]"
     ]
    },
    {
     "name": "stdout",
     "output_type": "stream",
     "text": [
      "0.01\n",
      "0.01\n"
     ]
    },
    {
     "name": "stderr",
     "output_type": "stream",
     "text": [
      "  0%|                                                                             | 8/10000 [01:10<19:07:10,  6.89s/it]"
     ]
    },
    {
     "name": "stdout",
     "output_type": "stream",
     "text": [
      "0.01\n"
     ]
    },
    {
     "name": "stderr",
     "output_type": "stream",
     "text": [
      "  0%|                                                                             | 9/10000 [01:14<16:56:12,  6.10s/it]"
     ]
    },
    {
     "name": "stdout",
     "output_type": "stream",
     "text": [
      "0.01\n"
     ]
    },
    {
     "name": "stderr",
     "output_type": "stream",
     "text": [
      "  0%|                                                                            | 10/10000 [01:17<14:18:51,  5.16s/it]"
     ]
    },
    {
     "name": "stdout",
     "output_type": "stream",
     "text": [
      "0.01\n"
     ]
    },
    {
     "name": "stderr",
     "output_type": "stream",
     "text": [
      "  0%|                                                                            | 12/10000 [01:22<10:08:05,  3.65s/it]"
     ]
    },
    {
     "name": "stdout",
     "output_type": "stream",
     "text": [
      "0.01\n",
      "0.01\n"
     ]
    },
    {
     "name": "stderr",
     "output_type": "stream",
     "text": [
      "  0%|                                                                            | 13/10000 [01:28<12:32:36,  4.52s/it]"
     ]
    },
    {
     "name": "stdout",
     "output_type": "stream",
     "text": [
      "0.01\n"
     ]
    },
    {
     "name": "stderr",
     "output_type": "stream",
     "text": [
      "  0%|                                                                             | 14/10000 [01:30<9:57:01,  3.59s/it]"
     ]
    },
    {
     "name": "stdout",
     "output_type": "stream",
     "text": [
      "0.01\n"
     ]
    },
    {
     "name": "stderr",
     "output_type": "stream",
     "text": [
      "  0%|                                                                            | 15/10000 [01:38<13:58:06,  5.04s/it]"
     ]
    },
    {
     "name": "stdout",
     "output_type": "stream",
     "text": [
      "0.01\n"
     ]
    },
    {
     "name": "stderr",
     "output_type": "stream",
     "text": [
      "  0%|                                                                            | 16/10000 [01:41<12:19:13,  4.44s/it]"
     ]
    },
    {
     "name": "stdout",
     "output_type": "stream",
     "text": [
      "0.01\n"
     ]
    },
    {
     "name": "stderr",
     "output_type": "stream",
     "text": [
      "  0%|▏                                                                           | 17/10000 [01:57<21:41:09,  7.82s/it]"
     ]
    },
    {
     "name": "stdout",
     "output_type": "stream",
     "text": [
      "0.01\n"
     ]
    },
    {
     "name": "stderr",
     "output_type": "stream",
     "text": [
      "  0%|▏                                                                           | 19/10000 [02:04<14:52:20,  5.36s/it]"
     ]
    },
    {
     "name": "stdout",
     "output_type": "stream",
     "text": [
      "0.01\n",
      "0.01\n"
     ]
    },
    {
     "name": "stderr",
     "output_type": "stream",
     "text": [
      "  0%|▏                                                                           | 20/10000 [02:07<12:25:06,  4.48s/it]"
     ]
    },
    {
     "name": "stdout",
     "output_type": "stream",
     "text": [
      "0.01\n"
     ]
    },
    {
     "name": "stderr",
     "output_type": "stream",
     "text": [
      "  0%|▏                                                                           | 21/10000 [02:16<16:13:50,  5.86s/it]"
     ]
    },
    {
     "name": "stdout",
     "output_type": "stream",
     "text": [
      "0.01\n"
     ]
    },
    {
     "name": "stderr",
     "output_type": "stream",
     "text": [
      "  0%|▏                                                                           | 22/10000 [02:18<13:10:25,  4.75s/it]"
     ]
    },
    {
     "name": "stdout",
     "output_type": "stream",
     "text": [
      "0.01\n"
     ]
    },
    {
     "name": "stderr",
     "output_type": "stream",
     "text": [
      "  0%|▏                                                                           | 23/10000 [02:22<12:14:51,  4.42s/it]"
     ]
    },
    {
     "name": "stdout",
     "output_type": "stream",
     "text": [
      "0.01\n"
     ]
    },
    {
     "name": "stderr",
     "output_type": "stream",
     "text": [
      "  0%|▏                                                                           | 24/10000 [02:58<38:31:57, 13.91s/it]"
     ]
    },
    {
     "name": "stdout",
     "output_type": "stream",
     "text": [
      "0.01\n"
     ]
    },
    {
     "name": "stderr",
     "output_type": "stream",
     "text": [
      "  0%|▏                                                                           | 25/10000 [03:02<30:18:22, 10.94s/it]"
     ]
    },
    {
     "name": "stdout",
     "output_type": "stream",
     "text": [
      "0.01\n"
     ]
    },
    {
     "name": "stderr",
     "output_type": "stream",
     "text": [
      "  0%|▏                                                                           | 26/10000 [03:03<22:43:09,  8.20s/it]"
     ]
    },
    {
     "name": "stdout",
     "output_type": "stream",
     "text": [
      "0.01\n"
     ]
    },
    {
     "name": "stderr",
     "output_type": "stream",
     "text": [
      "  0%|▏                                                                           | 27/10000 [03:14<24:36:08,  8.88s/it]"
     ]
    },
    {
     "name": "stdout",
     "output_type": "stream",
     "text": [
      "0.01\n"
     ]
    },
    {
     "name": "stderr",
     "output_type": "stream",
     "text": [
      "  0%|▏                                                                           | 28/10000 [03:29<29:36:13, 10.69s/it]"
     ]
    },
    {
     "name": "stdout",
     "output_type": "stream",
     "text": [
      "0.01\n"
     ]
    },
    {
     "name": "stderr",
     "output_type": "stream",
     "text": [
      "  0%|▏                                                                           | 29/10000 [03:33<24:10:22,  8.73s/it]"
     ]
    },
    {
     "name": "stdout",
     "output_type": "stream",
     "text": [
      "0.01\n"
     ]
    },
    {
     "name": "stderr",
     "output_type": "stream",
     "text": [
      "  0%|▏                                                                           | 30/10000 [03:40<22:42:53,  8.20s/it]"
     ]
    },
    {
     "name": "stdout",
     "output_type": "stream",
     "text": [
      "0.01\n"
     ]
    },
    {
     "name": "stderr",
     "output_type": "stream",
     "text": [
      "  0%|▏                                                                           | 31/10000 [03:58<30:42:24, 11.09s/it]"
     ]
    },
    {
     "name": "stdout",
     "output_type": "stream",
     "text": [
      "0.01\n"
     ]
    },
    {
     "name": "stderr",
     "output_type": "stream",
     "text": [
      "  0%|▏                                                                           | 32/10000 [04:02<24:38:33,  8.90s/it]"
     ]
    },
    {
     "name": "stdout",
     "output_type": "stream",
     "text": [
      "0.01\n"
     ]
    },
    {
     "name": "stderr",
     "output_type": "stream",
     "text": [
      "  0%|▎                                                                           | 33/10000 [04:05<20:03:02,  7.24s/it]"
     ]
    },
    {
     "name": "stdout",
     "output_type": "stream",
     "text": [
      "0.01\n"
     ]
    },
    {
     "name": "stderr",
     "output_type": "stream",
     "text": [
      "  0%|▎                                                                           | 34/10000 [04:10<17:47:39,  6.43s/it]"
     ]
    },
    {
     "name": "stdout",
     "output_type": "stream",
     "text": [
      "0.01\n"
     ]
    },
    {
     "name": "stderr",
     "output_type": "stream",
     "text": [
      "  0%|▎                                                                           | 35/10000 [04:31<30:41:42, 11.09s/it]"
     ]
    },
    {
     "name": "stdout",
     "output_type": "stream",
     "text": [
      "0.01\n"
     ]
    },
    {
     "name": "stderr",
     "output_type": "stream",
     "text": [
      "  0%|▎                                                                           | 37/10000 [04:35<17:16:31,  6.24s/it]"
     ]
    },
    {
     "name": "stdout",
     "output_type": "stream",
     "text": [
      "0.01\n",
      "0.01\n"
     ]
    },
    {
     "name": "stderr",
     "output_type": "stream",
     "text": [
      "  0%|▎                                                                            | 39/10000 [04:37<9:28:25,  3.42s/it]"
     ]
    },
    {
     "name": "stdout",
     "output_type": "stream",
     "text": [
      "0.01\n",
      "0.01\n"
     ]
    },
    {
     "name": "stderr",
     "output_type": "stream",
     "text": [
      "  0%|▎                                                                            | 40/10000 [04:41<9:52:25,  3.57s/it]"
     ]
    },
    {
     "name": "stdout",
     "output_type": "stream",
     "text": [
      "0.01\n"
     ]
    },
    {
     "name": "stderr",
     "output_type": "stream",
     "text": [
      "  0%|▎                                                                            | 41/10000 [04:42<7:28:07,  2.70s/it]"
     ]
    },
    {
     "name": "stdout",
     "output_type": "stream",
     "text": [
      "0.01\n",
      "0.01\n"
     ]
    },
    {
     "name": "stderr",
     "output_type": "stream",
     "text": [
      "  0%|▎                                                                           | 44/10000 [04:58<11:01:09,  3.98s/it]"
     ]
    },
    {
     "name": "stdout",
     "output_type": "stream",
     "text": [
      "0.01\n",
      "0.01\n"
     ]
    },
    {
     "name": "stderr",
     "output_type": "stream",
     "text": [
      "  0%|▎                                                                            | 45/10000 [04:59<8:42:55,  3.15s/it]"
     ]
    },
    {
     "name": "stdout",
     "output_type": "stream",
     "text": [
      "0.01\n"
     ]
    },
    {
     "name": "stderr",
     "output_type": "stream",
     "text": [
      "  0%|▎                                                                            | 46/10000 [05:02<8:17:33,  3.00s/it]"
     ]
    },
    {
     "name": "stdout",
     "output_type": "stream",
     "text": [
      "0.01\n"
     ]
    },
    {
     "name": "stderr",
     "output_type": "stream",
     "text": [
      "  0%|▎                                                                           | 47/10000 [05:14<15:16:18,  5.52s/it]"
     ]
    },
    {
     "name": "stdout",
     "output_type": "stream",
     "text": [
      "0.01\n"
     ]
    },
    {
     "name": "stderr",
     "output_type": "stream",
     "text": [
      "  0%|▎                                                                           | 48/10000 [05:15<12:14:07,  4.43s/it]"
     ]
    },
    {
     "name": "stdout",
     "output_type": "stream",
     "text": [
      "0.01\n"
     ]
    },
    {
     "name": "stderr",
     "output_type": "stream",
     "text": [
      "  0%|▎                                                                           | 49/10000 [05:19<11:43:12,  4.24s/it]"
     ]
    },
    {
     "name": "stdout",
     "output_type": "stream",
     "text": [
      "0.01\n"
     ]
    },
    {
     "name": "stderr",
     "output_type": "stream",
     "text": [
      "  0%|▍                                                                           | 50/10000 [05:22<17:51:07,  6.46s/it]\n"
     ]
    }
   ],
   "source": [
    "final_acc_lbfgs, adv_examples_lbfgs, proba_orig_lbfgs, proba_adv_lbfgs = test_LBFGS_mnist(model,\n",
    "                                                                                          device,\n",
    "                                                                                          test_loader,\n",
    "                                                                                          nb_exemples=50)"
   ]
  },
  {
   "cell_type": "code",
   "execution_count": 36,
   "id": "ad29cb22-3ba5-4313-af4c-b13e9590b4b4",
   "metadata": {},
   "outputs": [],
   "source": [
    "# This attacks takes a very long time to generate adversaries, we pickled the results\n",
    "import pickle\n",
    "with open('weights/lbfgs.pkl','wb') as f :\n",
    "    pickle.dump((final_acc_lbfgs, adv_examples_lbfgs, proba_orig_lbfgs, proba_adv_lbfgs),f)\n"
   ]
  },
  {
   "cell_type": "code",
   "execution_count": 124,
   "id": "3c6c220c-f9d0-44cc-bafe-d7cb5fbcd0c8",
   "metadata": {},
   "outputs": [
    {
     "name": "stdout",
     "output_type": "stream",
     "text": [
      " Accuracy for 100 exemples :  0.16\n"
     ]
    },
    {
     "data": {
      "image/png": "[encoded data removed]",
      "text/plain": [
       "<Figure size 1000x500 with 2 Axes>"
      ]
     },
     "metadata": {},
     "output_type": "display_data"
    }
   ],
   "source": [
    "print(\" Accuracy for 100 exemples : \",final_acc_lbfgs)\n",
    "\n",
    "fig , axs = plt.subplots(1,2,figsize=(10,5))\n",
    "axs[0].hist(proba_orig_lbfgs)\n",
    "axs[0].set_title('Proba distribution of original exemples')\n",
    "\n",
    "axs[1].hist(proba_adv_lbfgs)\n",
    "axs[1].set_title('Proba distribution of adversarial exemples')\n",
    "\n",
    "plt.show()"
   ]
  },
  {
   "cell_type": "code",
   "execution_count": 125,
   "id": "ed96a68b-8ae0-4c63-ba2e-b5c894c32b86",
   "metadata": {},
   "outputs": [
    {
     "data": {
      "image/png": "[encoded data removed]",
      "text/plain": [
       "<Figure size 400x1500 with 10 Axes>"
      ]
     },
     "metadata": {},
     "output_type": "display_data"
    }
   ],
   "source": [
    "fig , axs = plt.subplots(ncols=2, nrows=len(adv_examples_lbfgs),figsize=(4,15))\n",
    "\n",
    "for j in range(0,len(adv_examples_lbfgs)):\n",
    "    original, adversary, init_pred , final_pred = adv_examples_lbfgs[j]\n",
    "    axs[j,0].imshow(original,cmap='gray')\n",
    "    axs[j,0].set_title('Initial  : {}'.format(init_pred.item()))\n",
    "    axs[j,1].imshow(adversary,cmap='gray')\n",
    "    axs[j,1].set_title('Adversary : {}'.format(final_pred.item()))\n",
    "        \n",
    "#plt.savefig('Results/Exemples LBFGS mnist.png')"
   ]
  },
  {
   "cell_type": "code",
   "execution_count": 126,
   "id": "e0f4597b-c676-4ea8-bc6b-949216661c96",
   "metadata": {},
   "outputs": [
    {
     "data": {
      "text/plain": [
       "5"
      ]
     },
     "execution_count": 126,
     "metadata": {},
     "output_type": "execute_result"
    }
   ],
   "source": [
    "len(adv_examples_lbfgs)"
   ]
  },
  {
   "cell_type": "code",
   "execution_count": null,
   "id": "875a7715-ce5e-405f-9247-c8a6bca671ef",
   "metadata": {},
   "outputs": [],
   "source": []
  }
 ],
 "metadata": {
  "kernelspec": {
   "display_name": "Python 3 (ipykernel)",
   "language": "python",
   "name": "python3"
  },
  "language_info": {
   "codemirror_mode": {
    "name": "ipython",
    "version": 3
   },
   "file_extension": ".py",
   "mimetype": "text/x-python",
   "name": "python",
   "nbconvert_exporter": "python",
   "pygments_lexer": "ipython3",
   "version": "3.7.13"
  }
 },
 "nbformat": 4,
 "nbformat_minor": 5
}
