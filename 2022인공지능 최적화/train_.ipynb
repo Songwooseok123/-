{
 "cells": [
  {
   "cell_type": "code",
   "execution_count": 1,
   "id": "70e9d899-ff0c-4e21-8509-192d87e4e4cf",
   "metadata": {},
   "outputs": [],
   "source": [
    "import pandas as pd\n",
    "pd.set_option('display.max_columns', None)\n",
    "train_data= pd.read_excel('train.xlsx',engine='openpyxl')\n",
    "test_data = pd.read_excel('test.xlsx',engine='openpyxl')"
   ]
  },
  {
   "cell_type": "markdown",
   "id": "a547a7bc-e70c-4086-a454-5cbcc532d6b6",
   "metadata": {},
   "source": [
    "# Pre-processing"
   ]
  },
  {
   "cell_type": "markdown",
   "id": "425f13f0-6a66-42e4-bc33-f05420ebd0be",
   "metadata": {},
   "source": [
    "## 필요없는 column 제거"
   ]
  },
  {
   "cell_type": "code",
   "execution_count": null,
   "id": "ac685aa2-9060-4149-b7ea-0f735d22766f",
   "metadata": {},
   "outputs": [],
   "source": [
    "# 신장,체중 -> bmi가 중요해서 뗌. \n",
    "train_data=train_data.drop(['신장(cm)','체중(kg)'],axis =1 )"
   ]
  },
  {
   "cell_type": "code",
   "execution_count": null,
   "id": "bfe8e065-e346-4abd-a2ed-ff794306d2a5",
   "metadata": {},
   "outputs": [],
   "source": []
  },
  {
   "cell_type": "code",
   "execution_count": null,
   "id": "64754330-f6d7-453f-a29e-c5c29de6ce16",
   "metadata": {},
   "outputs": [],
   "source": []
  },
  {
   "cell_type": "code",
   "execution_count": null,
   "id": "a31ad82a-229d-4848-8b95-dc958e1868a7",
   "metadata": {},
   "outputs": [],
   "source": []
  },
  {
   "cell_type": "code",
   "execution_count": null,
   "id": "574a9dcc-fe7e-4d17-be51-a87370487022",
   "metadata": {},
   "outputs": [],
   "source": []
  },
  {
   "cell_type": "code",
   "execution_count": null,
   "id": "e11f1801-312c-4453-bbce-b1225790d6ac",
   "metadata": {},
   "outputs": [],
   "source": []
  },
  {
   "cell_type": "code",
   "execution_count": null,
   "id": "724d3aa9-ce83-4054-ab98-57e9d4947598",
   "metadata": {},
   "outputs": [],
   "source": []
  },
  {
   "cell_type": "code",
   "execution_count": null,
   "id": "d20d24be-abe5-481a-8bc9-0893d6d28d37",
   "metadata": {},
   "outputs": [],
   "source": []
  },
  {
   "cell_type": "code",
   "execution_count": null,
   "id": "6a381ed8-3926-4cb8-ace4-fb4f4a3ccf83",
   "metadata": {},
   "outputs": [],
   "source": []
  },
  {
   "cell_type": "code",
   "execution_count": null,
   "id": "b6177bd5-1c83-4305-b879-b2c1dbc04de1",
   "metadata": {},
   "outputs": [],
   "source": []
  },
  {
   "cell_type": "code",
   "execution_count": null,
   "id": "c7462ffc-2f17-49e5-be1e-b7dbc124e638",
   "metadata": {},
   "outputs": [],
   "source": []
  },
  {
   "cell_type": "code",
   "execution_count": null,
   "id": "1bfaaeab-7189-4727-b3d0-b1db6ff0c8f7",
   "metadata": {},
   "outputs": [],
   "source": []
  },
  {
   "cell_type": "code",
   "execution_count": null,
   "id": "8702f3e7-bcc7-4c9b-99b7-40bd442748b6",
   "metadata": {},
   "outputs": [],
   "source": []
  },
  {
   "cell_type": "code",
   "execution_count": null,
   "id": "d1f0f9fe-6fcf-4686-ba9a-eefe675b9a60",
   "metadata": {},
   "outputs": [],
   "source": []
  },
  {
   "cell_type": "code",
   "execution_count": null,
   "id": "4992dd08-5224-4efd-8c6c-668447a255b8",
   "metadata": {},
   "outputs": [],
   "source": []
  },
  {
   "cell_type": "code",
   "execution_count": null,
   "id": "f73c5b30-79bf-48fe-80a5-d4da0432fce3",
   "metadata": {},
   "outputs": [],
   "source": []
  }
 ],
 "metadata": {
  "kernelspec": {
   "display_name": "Python 3 (ipykernel)",
   "language": "python",
   "name": "python3"
  },
  "language_info": {
   "codemirror_mode": {
    "name": "ipython",
    "version": 3
   },
   "file_extension": ".py",
   "mimetype": "text/x-python",
   "name": "python",
   "nbconvert_exporter": "python",
   "pygments_lexer": "ipython3",
   "version": "3.7.13"
  }
 },
 "nbformat": 4,
 "nbformat_minor": 5
}
